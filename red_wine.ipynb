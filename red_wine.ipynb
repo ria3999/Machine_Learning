{
  "nbformat": 4,
  "nbformat_minor": 0,
  "metadata": {
    "colab": {
      "name": "red_wine.ipynb",
      "provenance": [],
      "authorship_tag": "ABX9TyN4neZUoFoLZr0VNYt6QlUi",
      "include_colab_link": true
    },
    "kernelspec": {
      "name": "python3",
      "display_name": "Python 3"
    }
  },
  "cells": [
    {
      "cell_type": "markdown",
      "metadata": {
        "id": "view-in-github",
        "colab_type": "text"
      },
      "source": [
        "<a href=\"https://colab.research.google.com/github/ria3999/mahine_learning-codes/blob/master/red_wine.ipynb\" target=\"_parent\"><img src=\"https://colab.research.google.com/assets/colab-badge.svg\" alt=\"Open In Colab\"/></a>"
      ]
    },
    {
      "cell_type": "code",
      "metadata": {
        "id": "I0hSVoylEzMD"
      },
      "source": [
        "import pandas as pd\n",
        "import os\n",
        "from sklearn.model_selection import train_test_split\n",
        "import warnings\n",
        "from sklearn.metrics import accuracy_score"
      ],
      "execution_count": 45,
      "outputs": []
    },
    {
      "cell_type": "code",
      "metadata": {
        "id": "JlyyDtCgFG-h"
      },
      "source": [
        "DeprecationWarning('ignore')\n",
        "warnings.filterwarnings('ignore',message=\"unwanted errors\")"
      ],
      "execution_count": 46,
      "outputs": []
    },
    {
      "cell_type": "code",
      "metadata": {
        "id": "GaP2zgG4FJEh"
      },
      "source": [
        "df=pd.read_csv('winequality-red.csv')"
      ],
      "execution_count": 47,
      "outputs": []
    },
    {
      "cell_type": "code",
      "metadata": {
        "id": "wBqJAroGFLrv"
      },
      "source": [
        "def cleaning(df):\n",
        "  bins1=[3,5,6,8]\n",
        "  label=['poor','better','best']\n",
        "  df['quality']=pd.cut(df['quality'],bins=bins1,labels=label,include_lowest=True,right=True)\n",
        "  bins2=[2,3,4,5]\n",
        "  label2=['low','med','high']\n",
        "  df['pH']=pd.cut(df['pH'],bins=bins2,right=True,labels=label2,include_lowest=True)\n",
        "  return df"
      ],
      "execution_count": 48,
      "outputs": []
    },
    {
      "cell_type": "code",
      "metadata": {
        "id": "fUg2op6uGB0b"
      },
      "source": [
        "df=cleaning(df)"
      ],
      "execution_count": 49,
      "outputs": []
    },
    {
      "cell_type": "code",
      "metadata": {
        "id": "L6w8_Z9mGFl0",
        "outputId": "3767f5e5-3d23-4981-9135-8aac766301b3",
        "colab": {
          "base_uri": "https://localhost:8080/",
          "height": 219
        }
      },
      "source": [
        "df.head()"
      ],
      "execution_count": 50,
      "outputs": [
        {
          "output_type": "execute_result",
          "data": {
            "text/html": [
              "<div>\n",
              "<style scoped>\n",
              "    .dataframe tbody tr th:only-of-type {\n",
              "        vertical-align: middle;\n",
              "    }\n",
              "\n",
              "    .dataframe tbody tr th {\n",
              "        vertical-align: top;\n",
              "    }\n",
              "\n",
              "    .dataframe thead th {\n",
              "        text-align: right;\n",
              "    }\n",
              "</style>\n",
              "<table border=\"1\" class=\"dataframe\">\n",
              "  <thead>\n",
              "    <tr style=\"text-align: right;\">\n",
              "      <th></th>\n",
              "      <th>fixed acidity</th>\n",
              "      <th>volatile acidity</th>\n",
              "      <th>citric acid</th>\n",
              "      <th>residual sugar</th>\n",
              "      <th>chlorides</th>\n",
              "      <th>free sulfur dioxide</th>\n",
              "      <th>total sulfur dioxide</th>\n",
              "      <th>density</th>\n",
              "      <th>pH</th>\n",
              "      <th>sulphates</th>\n",
              "      <th>alcohol</th>\n",
              "      <th>quality</th>\n",
              "    </tr>\n",
              "  </thead>\n",
              "  <tbody>\n",
              "    <tr>\n",
              "      <th>0</th>\n",
              "      <td>7.4</td>\n",
              "      <td>0.70</td>\n",
              "      <td>0.00</td>\n",
              "      <td>1.9</td>\n",
              "      <td>0.076</td>\n",
              "      <td>11.0</td>\n",
              "      <td>34.0</td>\n",
              "      <td>0.9978</td>\n",
              "      <td>med</td>\n",
              "      <td>0.56</td>\n",
              "      <td>9.4</td>\n",
              "      <td>poor</td>\n",
              "    </tr>\n",
              "    <tr>\n",
              "      <th>1</th>\n",
              "      <td>7.8</td>\n",
              "      <td>0.88</td>\n",
              "      <td>0.00</td>\n",
              "      <td>2.6</td>\n",
              "      <td>0.098</td>\n",
              "      <td>25.0</td>\n",
              "      <td>67.0</td>\n",
              "      <td>0.9968</td>\n",
              "      <td>med</td>\n",
              "      <td>0.68</td>\n",
              "      <td>9.8</td>\n",
              "      <td>poor</td>\n",
              "    </tr>\n",
              "    <tr>\n",
              "      <th>2</th>\n",
              "      <td>7.8</td>\n",
              "      <td>0.76</td>\n",
              "      <td>0.04</td>\n",
              "      <td>2.3</td>\n",
              "      <td>0.092</td>\n",
              "      <td>15.0</td>\n",
              "      <td>54.0</td>\n",
              "      <td>0.9970</td>\n",
              "      <td>med</td>\n",
              "      <td>0.65</td>\n",
              "      <td>9.8</td>\n",
              "      <td>poor</td>\n",
              "    </tr>\n",
              "    <tr>\n",
              "      <th>3</th>\n",
              "      <td>11.2</td>\n",
              "      <td>0.28</td>\n",
              "      <td>0.56</td>\n",
              "      <td>1.9</td>\n",
              "      <td>0.075</td>\n",
              "      <td>17.0</td>\n",
              "      <td>60.0</td>\n",
              "      <td>0.9980</td>\n",
              "      <td>med</td>\n",
              "      <td>0.58</td>\n",
              "      <td>9.8</td>\n",
              "      <td>better</td>\n",
              "    </tr>\n",
              "    <tr>\n",
              "      <th>4</th>\n",
              "      <td>7.4</td>\n",
              "      <td>0.70</td>\n",
              "      <td>0.00</td>\n",
              "      <td>1.9</td>\n",
              "      <td>0.076</td>\n",
              "      <td>11.0</td>\n",
              "      <td>34.0</td>\n",
              "      <td>0.9978</td>\n",
              "      <td>med</td>\n",
              "      <td>0.56</td>\n",
              "      <td>9.4</td>\n",
              "      <td>poor</td>\n",
              "    </tr>\n",
              "  </tbody>\n",
              "</table>\n",
              "</div>"
            ],
            "text/plain": [
              "   fixed acidity  volatile acidity  citric acid  ...  sulphates  alcohol  quality\n",
              "0            7.4              0.70         0.00  ...       0.56      9.4     poor\n",
              "1            7.8              0.88         0.00  ...       0.68      9.8     poor\n",
              "2            7.8              0.76         0.04  ...       0.65      9.8     poor\n",
              "3           11.2              0.28         0.56  ...       0.58      9.8   better\n",
              "4            7.4              0.70         0.00  ...       0.56      9.4     poor\n",
              "\n",
              "[5 rows x 12 columns]"
            ]
          },
          "metadata": {
            "tags": []
          },
          "execution_count": 50
        }
      ]
    },
    {
      "cell_type": "code",
      "metadata": {
        "id": "qyAKznirGGpM"
      },
      "source": [
        "X,Y=train_test_split(df,test_size=0.2,random_state=12)"
      ],
      "execution_count": 51,
      "outputs": []
    },
    {
      "cell_type": "code",
      "metadata": {
        "id": "BTIIgew5GnXe"
      },
      "source": [
        "def x_and_y (cf):\n",
        "    X=cf.drop(['quality'],axis=1)\n",
        "    Y=cf['quality']\n",
        "    return X,Y"
      ],
      "execution_count": 52,
      "outputs": []
    },
    {
      "cell_type": "code",
      "metadata": {
        "id": "jB0YvQIfGovp"
      },
      "source": [
        "X_train,Y_train=x_and_y(X)\n",
        "X_test,Y_test=x_and_y(Y)"
      ],
      "execution_count": 53,
      "outputs": []
    },
    {
      "cell_type": "code",
      "metadata": {
        "id": "kxjsE-LrG44M"
      },
      "source": [
        "from sklearn.preprocessing import LabelEncoder\n",
        "label=LabelEncoder()\n"
      ],
      "execution_count": 54,
      "outputs": []
    },
    {
      "cell_type": "code",
      "metadata": {
        "id": "dZMvCd0wHgGL"
      },
      "source": [
        "def encoding(df):\n",
        "  df['pH']=label.fit_transform(df['pH'])\n",
        "  return df\n"
      ],
      "execution_count": 55,
      "outputs": []
    },
    {
      "cell_type": "code",
      "metadata": {
        "id": "SUTLIilDHhcY"
      },
      "source": [
        "X_train=encoding(X_train)\n",
        "X_test=encoding(X_test)\n"
      ],
      "execution_count": 57,
      "outputs": []
    },
    {
      "cell_type": "code",
      "metadata": {
        "id": "saL61xN9IVZ_",
        "outputId": "daee877c-fba2-4c7a-b9aa-5d43eb0df97c",
        "colab": {
          "base_uri": "https://localhost:8080/",
          "height": 139
        }
      },
      "source": [
        "Y_test.head()"
      ],
      "execution_count": 61,
      "outputs": [
        {
          "output_type": "execute_result",
          "data": {
            "text/plain": [
              "1130    better\n",
              "1526    better\n",
              "1064    better\n",
              "673       poor\n",
              "245     better\n",
              "Name: quality, dtype: category\n",
              "Categories (3, object): ['poor' < 'better' < 'best']"
            ]
          },
          "metadata": {
            "tags": []
          },
          "execution_count": 61
        }
      ]
    },
    {
      "cell_type": "code",
      "metadata": {
        "id": "dhtT_hggI9LE"
      },
      "source": [
        "Y_train=pd.Series.to_frame(Y_train)"
      ],
      "execution_count": 72,
      "outputs": []
    },
    {
      "cell_type": "code",
      "metadata": {
        "id": "JPy-tv6nIYaE",
        "outputId": "1bf1eff0-9a0a-412c-95aa-8ab536702155",
        "colab": {
          "base_uri": "https://localhost:8080/",
          "height": 104
        }
      },
      "source": [
        "Y_train['quality']=label.fit_transform(Y_train['quality'])\n",
        "Y_test['quality']=label.fit_transform(Y_train['quality'])"
      ],
      "execution_count": 74,
      "outputs": [
        {
          "output_type": "stream",
          "text": [
            "/usr/local/lib/python3.6/dist-packages/ipykernel_launcher.py:2: SettingWithCopyWarning: \n",
            "A value is trying to be set on a copy of a slice from a DataFrame\n",
            "\n",
            "See the caveats in the documentation: https://pandas.pydata.org/pandas-docs/stable/user_guide/indexing.html#returning-a-view-versus-a-copy\n",
            "  \n"
          ],
          "name": "stderr"
        }
      ]
    },
    {
      "cell_type": "code",
      "metadata": {
        "id": "IGfUYglkHidR",
        "outputId": "f5618831-0ce2-4ac6-b7bb-fa296ef31c01",
        "colab": {
          "base_uri": "https://localhost:8080/",
          "height": 257
        }
      },
      "source": [
        "X_train.head()"
      ],
      "execution_count": 75,
      "outputs": [
        {
          "output_type": "execute_result",
          "data": {
            "text/html": [
              "<div>\n",
              "<style scoped>\n",
              "    .dataframe tbody tr th:only-of-type {\n",
              "        vertical-align: middle;\n",
              "    }\n",
              "\n",
              "    .dataframe tbody tr th {\n",
              "        vertical-align: top;\n",
              "    }\n",
              "\n",
              "    .dataframe thead th {\n",
              "        text-align: right;\n",
              "    }\n",
              "</style>\n",
              "<table border=\"1\" class=\"dataframe\">\n",
              "  <thead>\n",
              "    <tr style=\"text-align: right;\">\n",
              "      <th></th>\n",
              "      <th>fixed acidity</th>\n",
              "      <th>volatile acidity</th>\n",
              "      <th>citric acid</th>\n",
              "      <th>residual sugar</th>\n",
              "      <th>chlorides</th>\n",
              "      <th>free sulfur dioxide</th>\n",
              "      <th>total sulfur dioxide</th>\n",
              "      <th>density</th>\n",
              "      <th>pH</th>\n",
              "      <th>sulphates</th>\n",
              "      <th>alcohol</th>\n",
              "    </tr>\n",
              "  </thead>\n",
              "  <tbody>\n",
              "    <tr>\n",
              "      <th>1326</th>\n",
              "      <td>6.7</td>\n",
              "      <td>0.460</td>\n",
              "      <td>0.24</td>\n",
              "      <td>1.7</td>\n",
              "      <td>0.077</td>\n",
              "      <td>18.0</td>\n",
              "      <td>34.0</td>\n",
              "      <td>0.99480</td>\n",
              "      <td>2</td>\n",
              "      <td>0.60</td>\n",
              "      <td>10.6</td>\n",
              "    </tr>\n",
              "    <tr>\n",
              "      <th>436</th>\n",
              "      <td>8.0</td>\n",
              "      <td>0.670</td>\n",
              "      <td>0.30</td>\n",
              "      <td>2.0</td>\n",
              "      <td>0.060</td>\n",
              "      <td>38.0</td>\n",
              "      <td>62.0</td>\n",
              "      <td>0.99580</td>\n",
              "      <td>2</td>\n",
              "      <td>0.56</td>\n",
              "      <td>10.2</td>\n",
              "    </tr>\n",
              "    <tr>\n",
              "      <th>188</th>\n",
              "      <td>7.9</td>\n",
              "      <td>0.500</td>\n",
              "      <td>0.33</td>\n",
              "      <td>2.0</td>\n",
              "      <td>0.084</td>\n",
              "      <td>15.0</td>\n",
              "      <td>143.0</td>\n",
              "      <td>0.99680</td>\n",
              "      <td>2</td>\n",
              "      <td>0.55</td>\n",
              "      <td>9.5</td>\n",
              "    </tr>\n",
              "    <tr>\n",
              "      <th>1034</th>\n",
              "      <td>8.9</td>\n",
              "      <td>0.745</td>\n",
              "      <td>0.18</td>\n",
              "      <td>2.5</td>\n",
              "      <td>0.077</td>\n",
              "      <td>15.0</td>\n",
              "      <td>48.0</td>\n",
              "      <td>0.99739</td>\n",
              "      <td>2</td>\n",
              "      <td>0.47</td>\n",
              "      <td>9.7</td>\n",
              "    </tr>\n",
              "    <tr>\n",
              "      <th>1413</th>\n",
              "      <td>9.9</td>\n",
              "      <td>0.570</td>\n",
              "      <td>0.25</td>\n",
              "      <td>2.0</td>\n",
              "      <td>0.104</td>\n",
              "      <td>12.0</td>\n",
              "      <td>89.0</td>\n",
              "      <td>0.99630</td>\n",
              "      <td>2</td>\n",
              "      <td>0.90</td>\n",
              "      <td>10.1</td>\n",
              "    </tr>\n",
              "  </tbody>\n",
              "</table>\n",
              "</div>"
            ],
            "text/plain": [
              "      fixed acidity  volatile acidity  citric acid  ...  pH  sulphates  alcohol\n",
              "1326            6.7             0.460         0.24  ...   2       0.60     10.6\n",
              "436             8.0             0.670         0.30  ...   2       0.56     10.2\n",
              "188             7.9             0.500         0.33  ...   2       0.55      9.5\n",
              "1034            8.9             0.745         0.18  ...   2       0.47      9.7\n",
              "1413            9.9             0.570         0.25  ...   2       0.90     10.1\n",
              "\n",
              "[5 rows x 11 columns]"
            ]
          },
          "metadata": {
            "tags": []
          },
          "execution_count": 75
        }
      ]
    },
    {
      "cell_type": "code",
      "metadata": {
        "id": "Aa0U3uxqGq6F"
      },
      "source": [
        "from sklearn.tree import DecisionTreeClassifier"
      ],
      "execution_count": 76,
      "outputs": []
    },
    {
      "cell_type": "code",
      "metadata": {
        "id": "9pcgJcHyGsUG",
        "outputId": "a2a9fb38-8431-450c-8009-ee1bb1023f8d",
        "colab": {
          "base_uri": "https://localhost:8080/",
          "height": 35
        }
      },
      "source": [
        "\n",
        "dcs=DecisionTreeClassifier(criterion='entropy',min_samples_leaf=5,max_leaf_nodes=64,max_depth=5)\n",
        "dcs.fit(X_train,Y_train)\n",
        "prediction=dcs.predict(X_train)\n",
        "score=accuracy_score(Y_train,prediction)\n",
        "print(score)"
      ],
      "execution_count": 77,
      "outputs": [
        {
          "output_type": "stream",
          "text": [
            "0.6903831118060985\n"
          ],
          "name": "stdout"
        }
      ]
    },
    {
      "cell_type": "code",
      "metadata": {
        "id": "DB18PfSXGvis",
        "outputId": "c09c6aaa-82f9-4e44-dd5c-be33cabcd944",
        "colab": {
          "base_uri": "https://localhost:8080/",
          "height": 72
        }
      },
      "source": [
        "from sklearn.ensemble import RandomForestClassifier\n",
        "result=RandomForestClassifier(criterion='entropy',min_samples_leaf=5,max_leaf_nodes=64,max_depth=5)\n",
        "result.fit(X_train,Y_train)\n",
        "pre=result.predict(X_train)\n",
        "score1=accuracy_score(Y_train,pre)"
      ],
      "execution_count": 78,
      "outputs": [
        {
          "output_type": "stream",
          "text": [
            "/usr/local/lib/python3.6/dist-packages/ipykernel_launcher.py:3: DataConversionWarning: A column-vector y was passed when a 1d array was expected. Please change the shape of y to (n_samples,), for example using ravel().\n",
            "  This is separate from the ipykernel package so we can avoid doing imports until\n"
          ],
          "name": "stderr"
        }
      ]
    },
    {
      "cell_type": "code",
      "metadata": {
        "id": "ddueGxB9JhyW",
        "outputId": "4358b637-4eed-420f-e5f9-81bd29006b8c",
        "colab": {
          "base_uri": "https://localhost:8080/",
          "height": 35
        }
      },
      "source": [
        "score1"
      ],
      "execution_count": 79,
      "outputs": [
        {
          "output_type": "execute_result",
          "data": {
            "text/plain": [
              "0.7224394057857702"
            ]
          },
          "metadata": {
            "tags": []
          },
          "execution_count": 79
        }
      ]
    },
    {
      "cell_type": "code",
      "metadata": {
        "id": "zcLO3oysJirT",
        "outputId": "b830fe4e-740b-4030-9d7c-4df73d319a00",
        "colab": {
          "base_uri": "https://localhost:8080/",
          "height": 35
        }
      },
      "source": [
        "from sklearn.model_selection import cross_val_score\n",
        "cv=cross_val_score(dcs,X_train,Y_train,cv=5)\n",
        "print(cv.mean())\n"
      ],
      "execution_count": 80,
      "outputs": [
        {
          "output_type": "stream",
          "text": [
            "0.6051470588235295\n"
          ],
          "name": "stdout"
        }
      ]
    },
    {
      "cell_type": "code",
      "metadata": {
        "id": "XyUvc9GqJmQ1"
      },
      "source": [
        ""
      ],
      "execution_count": null,
      "outputs": []
    }
  ]
}