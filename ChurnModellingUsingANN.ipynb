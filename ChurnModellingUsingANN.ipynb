{
  "nbformat": 4,
  "nbformat_minor": 0,
  "metadata": {
    "colab": {
      "name": "ChurnModellingUsingANN.ipynb",
      "provenance": [],
      "authorship_tag": "ABX9TyMwyle7sco8XPQZ+XtssXIB",
      "include_colab_link": true
    },
    "kernelspec": {
      "name": "python3",
      "display_name": "Python 3"
    }
  },
  "cells": [
    {
      "cell_type": "markdown",
      "metadata": {
        "id": "view-in-github",
        "colab_type": "text"
      },
      "source": [
        "<a href=\"https://colab.research.google.com/github/ria3999/mahine_learning-codes/blob/master/ChurnModellingUsingANN.ipynb\" target=\"_parent\"><img src=\"https://colab.research.google.com/assets/colab-badge.svg\" alt=\"Open In Colab\"/></a>"
      ]
    },
    {
      "cell_type": "code",
      "metadata": {
        "id": "DcF3vd9CBczQ"
      },
      "source": [
        "import numpy as np\n",
        "import matplotlib.pyplot as plt\n",
        "import pandas as pd"
      ],
      "execution_count": 1,
      "outputs": []
    },
    {
      "cell_type": "code",
      "metadata": {
        "id": "xQMHVV57D69Z"
      },
      "source": [
        "df=pd.read_csv(\"/content/Churn_Modelling.csv\")"
      ],
      "execution_count": 18,
      "outputs": []
    },
    {
      "cell_type": "code",
      "metadata": {
        "id": "blqQkTzQEBNv",
        "outputId": "104449ec-f1e4-4c15-d0f0-fd4fde3a4f9d",
        "colab": {
          "base_uri": "https://localhost:8080/",
          "height": 87
        }
      },
      "source": [
        "df.columns"
      ],
      "execution_count": 19,
      "outputs": [
        {
          "output_type": "execute_result",
          "data": {
            "text/plain": [
              "Index(['RowNumber', 'CustomerId', 'Surname', 'CreditScore', 'Geography',\n",
              "       'Gender', 'Age', 'Tenure', 'Balance', 'NumOfProducts', 'HasCrCard',\n",
              "       'IsActiveMember', 'EstimatedSalary', 'Exited'],\n",
              "      dtype='object')"
            ]
          },
          "metadata": {
            "tags": []
          },
          "execution_count": 19
        }
      ]
    },
    {
      "cell_type": "code",
      "metadata": {
        "id": "3yyzndIhEEJX"
      },
      "source": [
        "X=df.iloc[:,3:13]\n",
        "Y=df.iloc[:,13]"
      ],
      "execution_count": 20,
      "outputs": []
    },
    {
      "cell_type": "code",
      "metadata": {
        "id": "UkUcqJhVFEJE"
      },
      "source": [
        "geography=pd.get_dummies(X[\"Geography\"],drop_first=True)"
      ],
      "execution_count": 21,
      "outputs": []
    },
    {
      "cell_type": "code",
      "metadata": {
        "id": "-9KQhDjYKT8g"
      },
      "source": [
        "gender=pd.get_dummies(X[\"Gender\"],drop_first=True)"
      ],
      "execution_count": 22,
      "outputs": []
    },
    {
      "cell_type": "code",
      "metadata": {
        "id": "gPQ7cKpNKVOS"
      },
      "source": [
        "X=pd.concat([X,geography,gender],axis=1)"
      ],
      "execution_count": 23,
      "outputs": []
    },
    {
      "cell_type": "code",
      "metadata": {
        "id": "JB-BzND7K1YX"
      },
      "source": [
        "X=X.drop(['Geography','Gender'],axis=1)"
      ],
      "execution_count": 24,
      "outputs": []
    },
    {
      "cell_type": "code",
      "metadata": {
        "id": "J4E2K8NYLJxs"
      },
      "source": [
        "from sklearn.model_selection import train_test_split"
      ],
      "execution_count": 25,
      "outputs": []
    },
    {
      "cell_type": "code",
      "metadata": {
        "id": "2MhEpooeLQ-Q"
      },
      "source": [
        "X_train,X_test,Y_train,Y_test=train_test_split(X,Y,test_size=0.2,random_state=0)"
      ],
      "execution_count": 26,
      "outputs": []
    },
    {
      "cell_type": "code",
      "metadata": {
        "id": "sdDBLyAwLdko"
      },
      "source": [
        "from sklearn.preprocessing import StandardScaler"
      ],
      "execution_count": 27,
      "outputs": []
    },
    {
      "cell_type": "code",
      "metadata": {
        "id": "2u652CevLoGm"
      },
      "source": [
        "sc=StandardScaler()"
      ],
      "execution_count": 28,
      "outputs": []
    },
    {
      "cell_type": "code",
      "metadata": {
        "id": "nz-aYWORLqVh"
      },
      "source": [
        "X_train=sc.fit_transform(X_train)"
      ],
      "execution_count": 29,
      "outputs": []
    },
    {
      "cell_type": "code",
      "metadata": {
        "id": "iBcA7_niLuYa"
      },
      "source": [
        "X_test=sc.fit_transform(X_test)"
      ],
      "execution_count": 30,
      "outputs": []
    },
    {
      "cell_type": "markdown",
      "metadata": {
        "id": "C0XGahwfMLqy"
      },
      "source": [
        "We require feature scaling in deep learning.\n",
        "w*x ko ek jaisa ho the convergence will be quick ...we will get global minima quickly."
      ]
    },
    {
      "cell_type": "code",
      "metadata": {
        "id": "ttIdre9DLy4N"
      },
      "source": [
        "import keras\n",
        "from keras.models import Sequential\n",
        "from keras.layers import Dense\n",
        "#from keras.layers import LeakyRelu,PReLu,ELU\n",
        "from keras.layers import Dropout"
      ],
      "execution_count": 31,
      "outputs": []
    },
    {
      "cell_type": "markdown",
      "metadata": {
        "id": "4zRbT_KENfb2"
      },
      "source": [
        "EMPTY NEURAL NETWORK"
      ]
    },
    {
      "cell_type": "code",
      "metadata": {
        "id": "0RxgiS-2NfI3"
      },
      "source": [
        "classifier=Sequential()"
      ],
      "execution_count": 32,
      "outputs": []
    },
    {
      "cell_type": "markdown",
      "metadata": {
        "id": "hiH9WXnNNr8x"
      },
      "source": [
        "ADD LAYERS"
      ]
    },
    {
      "cell_type": "code",
      "metadata": {
        "id": "L573pPUgNaCc"
      },
      "source": [
        "classifier.add(Dense(units=6,kernel_initializer='he_uniform',activation='relu',input_dim=11))"
      ],
      "execution_count": 33,
      "outputs": []
    },
    {
      "cell_type": "code",
      "metadata": {
        "id": "pYE3qtOSOO2h"
      },
      "source": [
        "classifier.add(Dense(units=6,kernel_initializer='he_uniform',activation='relu'))"
      ],
      "execution_count": 34,
      "outputs": []
    },
    {
      "cell_type": "markdown",
      "metadata": {
        "id": "HYhJ1xbEPuOS"
      },
      "source": [
        "usingg sigmoid to avoid vanishing gradient problem"
      ]
    },
    {
      "cell_type": "code",
      "metadata": {
        "id": "xlnCd6IbPCua"
      },
      "source": [
        "classifier.add(Dense(units=1,kernel_initializer='glorot_uniform',activation='sigmoid'))"
      ],
      "execution_count": 35,
      "outputs": []
    },
    {
      "cell_type": "code",
      "metadata": {
        "id": "jlQeEwcAPTDt",
        "outputId": "be20e492-2c0f-46ac-d9b4-7adb41256144",
        "colab": {
          "base_uri": "https://localhost:8080/",
          "height": 260
        }
      },
      "source": [
        "classifier.summary()"
      ],
      "execution_count": 36,
      "outputs": [
        {
          "output_type": "stream",
          "text": [
            "Model: \"sequential\"\n",
            "_________________________________________________________________\n",
            "Layer (type)                 Output Shape              Param #   \n",
            "=================================================================\n",
            "dense (Dense)                (None, 6)                 72        \n",
            "_________________________________________________________________\n",
            "dense_1 (Dense)              (None, 6)                 42        \n",
            "_________________________________________________________________\n",
            "dense_2 (Dense)              (None, 1)                 7         \n",
            "=================================================================\n",
            "Total params: 121\n",
            "Trainable params: 121\n",
            "Non-trainable params: 0\n",
            "_________________________________________________________________\n"
          ],
          "name": "stdout"
        }
      ]
    },
    {
      "cell_type": "markdown",
      "metadata": {
        "id": "KD1zFfrSQRrQ"
      },
      "source": [
        "we should use binary crossentrophy if we have 2 categories in output and categorical crossentrophy if we have multiple categories in output"
      ]
    },
    {
      "cell_type": "code",
      "metadata": {
        "id": "pXsPeoyyP5kQ"
      },
      "source": [
        "classifier.compile(optimizer='adam',loss='binary_crossentropy',metrics=['accuracy'])"
      ],
      "execution_count": 37,
      "outputs": []
    },
    {
      "cell_type": "code",
      "metadata": {
        "id": "4LynZw7iQI5f",
        "outputId": "d1d1df22-4eb5-4878-897b-3ebf14f0e54e",
        "colab": {
          "base_uri": "https://localhost:8080/",
          "height": 1000
        }
      },
      "source": [
        "model=classifier.fit(X_train,Y_train,validation_split=0.33,batch_size=10,epochs=50)"
      ],
      "execution_count": 40,
      "outputs": [
        {
          "output_type": "stream",
          "text": [
            "Epoch 1/50\n",
            "536/536 [==============================] - 1s 2ms/step - loss: 0.5713 - accuracy: 0.7380 - val_loss: 0.4903 - val_accuracy: 0.7929\n",
            "Epoch 2/50\n",
            "536/536 [==============================] - 1s 1ms/step - loss: 0.4592 - accuracy: 0.8039 - val_loss: 0.4515 - val_accuracy: 0.7982\n",
            "Epoch 3/50\n",
            "536/536 [==============================] - 1s 1ms/step - loss: 0.4287 - accuracy: 0.8169 - val_loss: 0.4339 - val_accuracy: 0.8076\n",
            "Epoch 4/50\n",
            "536/536 [==============================] - 1s 1ms/step - loss: 0.4121 - accuracy: 0.8244 - val_loss: 0.4174 - val_accuracy: 0.8156\n",
            "Epoch 5/50\n",
            "536/536 [==============================] - 1s 1ms/step - loss: 0.3995 - accuracy: 0.8289 - val_loss: 0.4045 - val_accuracy: 0.8213\n",
            "Epoch 6/50\n",
            "536/536 [==============================] - 1s 1ms/step - loss: 0.3887 - accuracy: 0.8324 - val_loss: 0.3976 - val_accuracy: 0.8236\n",
            "Epoch 7/50\n",
            "536/536 [==============================] - 1s 1ms/step - loss: 0.3804 - accuracy: 0.8378 - val_loss: 0.3910 - val_accuracy: 0.8307\n",
            "Epoch 8/50\n",
            "536/536 [==============================] - 1s 1ms/step - loss: 0.3737 - accuracy: 0.8418 - val_loss: 0.3852 - val_accuracy: 0.8349\n",
            "Epoch 9/50\n",
            "536/536 [==============================] - 1s 1ms/step - loss: 0.3692 - accuracy: 0.8416 - val_loss: 0.3823 - val_accuracy: 0.8353\n",
            "Epoch 10/50\n",
            "536/536 [==============================] - 1s 1ms/step - loss: 0.3654 - accuracy: 0.8425 - val_loss: 0.3799 - val_accuracy: 0.8360\n",
            "Epoch 11/50\n",
            "536/536 [==============================] - 1s 1ms/step - loss: 0.3614 - accuracy: 0.8487 - val_loss: 0.3776 - val_accuracy: 0.8368\n",
            "Epoch 12/50\n",
            "536/536 [==============================] - 1s 1ms/step - loss: 0.3589 - accuracy: 0.8490 - val_loss: 0.3742 - val_accuracy: 0.8387\n",
            "Epoch 13/50\n",
            "536/536 [==============================] - 1s 1ms/step - loss: 0.3562 - accuracy: 0.8492 - val_loss: 0.3739 - val_accuracy: 0.8429\n",
            "Epoch 14/50\n",
            "536/536 [==============================] - 1s 1ms/step - loss: 0.3532 - accuracy: 0.8498 - val_loss: 0.3711 - val_accuracy: 0.8395\n",
            "Epoch 15/50\n",
            "536/536 [==============================] - 1s 1ms/step - loss: 0.3507 - accuracy: 0.8520 - val_loss: 0.3701 - val_accuracy: 0.8421\n",
            "Epoch 16/50\n",
            "536/536 [==============================] - 1s 1ms/step - loss: 0.3489 - accuracy: 0.8539 - val_loss: 0.3682 - val_accuracy: 0.8436\n",
            "Epoch 17/50\n",
            "536/536 [==============================] - 1s 1ms/step - loss: 0.3473 - accuracy: 0.8530 - val_loss: 0.3652 - val_accuracy: 0.8440\n",
            "Epoch 18/50\n",
            "536/536 [==============================] - 1s 1ms/step - loss: 0.3449 - accuracy: 0.8571 - val_loss: 0.3669 - val_accuracy: 0.8440\n",
            "Epoch 19/50\n",
            "536/536 [==============================] - 1s 1ms/step - loss: 0.3451 - accuracy: 0.8572 - val_loss: 0.3650 - val_accuracy: 0.8485\n",
            "Epoch 20/50\n",
            "536/536 [==============================] - 1s 1ms/step - loss: 0.3442 - accuracy: 0.8571 - val_loss: 0.3647 - val_accuracy: 0.8463\n",
            "Epoch 21/50\n",
            "536/536 [==============================] - 1s 1ms/step - loss: 0.3433 - accuracy: 0.8561 - val_loss: 0.3643 - val_accuracy: 0.8482\n",
            "Epoch 22/50\n",
            "536/536 [==============================] - 1s 1ms/step - loss: 0.3420 - accuracy: 0.8565 - val_loss: 0.3636 - val_accuracy: 0.8501\n",
            "Epoch 23/50\n",
            "536/536 [==============================] - 1s 1ms/step - loss: 0.3412 - accuracy: 0.8591 - val_loss: 0.3620 - val_accuracy: 0.8485\n",
            "Epoch 24/50\n",
            "536/536 [==============================] - 1s 1ms/step - loss: 0.3410 - accuracy: 0.8600 - val_loss: 0.3615 - val_accuracy: 0.8485\n",
            "Epoch 25/50\n",
            "536/536 [==============================] - 1s 1ms/step - loss: 0.3405 - accuracy: 0.8572 - val_loss: 0.3623 - val_accuracy: 0.8508\n",
            "Epoch 26/50\n",
            "536/536 [==============================] - 1s 1ms/step - loss: 0.3396 - accuracy: 0.8599 - val_loss: 0.3608 - val_accuracy: 0.8497\n",
            "Epoch 27/50\n",
            "536/536 [==============================] - 1s 1ms/step - loss: 0.3389 - accuracy: 0.8586 - val_loss: 0.3592 - val_accuracy: 0.8516\n",
            "Epoch 28/50\n",
            "536/536 [==============================] - 1s 1ms/step - loss: 0.3385 - accuracy: 0.8612 - val_loss: 0.3597 - val_accuracy: 0.8485\n",
            "Epoch 29/50\n",
            "536/536 [==============================] - 1s 1ms/step - loss: 0.3382 - accuracy: 0.8569 - val_loss: 0.3576 - val_accuracy: 0.8538\n",
            "Epoch 30/50\n",
            "536/536 [==============================] - 1s 1ms/step - loss: 0.3375 - accuracy: 0.8612 - val_loss: 0.3599 - val_accuracy: 0.8493\n",
            "Epoch 31/50\n",
            "536/536 [==============================] - 1s 1ms/step - loss: 0.3375 - accuracy: 0.8600 - val_loss: 0.3594 - val_accuracy: 0.8538\n",
            "Epoch 32/50\n",
            "536/536 [==============================] - 1s 1ms/step - loss: 0.3367 - accuracy: 0.8617 - val_loss: 0.3567 - val_accuracy: 0.8546\n",
            "Epoch 33/50\n",
            "536/536 [==============================] - 1s 1ms/step - loss: 0.3368 - accuracy: 0.8600 - val_loss: 0.3567 - val_accuracy: 0.8519\n",
            "Epoch 34/50\n",
            "536/536 [==============================] - 1s 1ms/step - loss: 0.3361 - accuracy: 0.8606 - val_loss: 0.3564 - val_accuracy: 0.8519\n",
            "Epoch 35/50\n",
            "536/536 [==============================] - 1s 1ms/step - loss: 0.3361 - accuracy: 0.8610 - val_loss: 0.3560 - val_accuracy: 0.8512\n",
            "Epoch 36/50\n",
            "536/536 [==============================] - 1s 1ms/step - loss: 0.3358 - accuracy: 0.8623 - val_loss: 0.3591 - val_accuracy: 0.8501\n",
            "Epoch 37/50\n",
            "536/536 [==============================] - 1s 1ms/step - loss: 0.3355 - accuracy: 0.8606 - val_loss: 0.3570 - val_accuracy: 0.8527\n",
            "Epoch 38/50\n",
            "536/536 [==============================] - 1s 1ms/step - loss: 0.3352 - accuracy: 0.8604 - val_loss: 0.3567 - val_accuracy: 0.8535\n",
            "Epoch 39/50\n",
            "536/536 [==============================] - 1s 1ms/step - loss: 0.3348 - accuracy: 0.8606 - val_loss: 0.3555 - val_accuracy: 0.8535\n",
            "Epoch 40/50\n",
            "536/536 [==============================] - 1s 1ms/step - loss: 0.3347 - accuracy: 0.8628 - val_loss: 0.3564 - val_accuracy: 0.8542\n",
            "Epoch 41/50\n",
            "536/536 [==============================] - 1s 1ms/step - loss: 0.3348 - accuracy: 0.8615 - val_loss: 0.3559 - val_accuracy: 0.8576\n",
            "Epoch 42/50\n",
            "536/536 [==============================] - 1s 1ms/step - loss: 0.3343 - accuracy: 0.8619 - val_loss: 0.3554 - val_accuracy: 0.8546\n",
            "Epoch 43/50\n",
            "536/536 [==============================] - 1s 1ms/step - loss: 0.3340 - accuracy: 0.8625 - val_loss: 0.3562 - val_accuracy: 0.8550\n",
            "Epoch 44/50\n",
            "536/536 [==============================] - 1s 1ms/step - loss: 0.3339 - accuracy: 0.8610 - val_loss: 0.3566 - val_accuracy: 0.8497\n",
            "Epoch 45/50\n",
            "536/536 [==============================] - 1s 1ms/step - loss: 0.3341 - accuracy: 0.8619 - val_loss: 0.3556 - val_accuracy: 0.8535\n",
            "Epoch 46/50\n",
            "536/536 [==============================] - 1s 1ms/step - loss: 0.3333 - accuracy: 0.8610 - val_loss: 0.3563 - val_accuracy: 0.8538\n",
            "Epoch 47/50\n",
            "536/536 [==============================] - 1s 1ms/step - loss: 0.3335 - accuracy: 0.8602 - val_loss: 0.3557 - val_accuracy: 0.8561\n",
            "Epoch 48/50\n",
            "536/536 [==============================] - 1s 1ms/step - loss: 0.3336 - accuracy: 0.8597 - val_loss: 0.3550 - val_accuracy: 0.8565\n",
            "Epoch 49/50\n",
            "536/536 [==============================] - 1s 1ms/step - loss: 0.3328 - accuracy: 0.8599 - val_loss: 0.3557 - val_accuracy: 0.8516\n",
            "Epoch 50/50\n",
            "536/536 [==============================] - 1s 1ms/step - loss: 0.3330 - accuracy: 0.8612 - val_loss: 0.3560 - val_accuracy: 0.8523\n"
          ],
          "name": "stdout"
        }
      ]
    },
    {
      "cell_type": "code",
      "metadata": {
        "id": "2bE6AKz6Q5U0"
      },
      "source": [
        "y_pred=classifier.predict(X_test)"
      ],
      "execution_count": 41,
      "outputs": []
    },
    {
      "cell_type": "code",
      "metadata": {
        "id": "zHqQFJ-dRaau"
      },
      "source": [
        "y_pred=(y_pred>0.5)"
      ],
      "execution_count": 42,
      "outputs": []
    },
    {
      "cell_type": "code",
      "metadata": {
        "id": "E6PafJMeRd_G"
      },
      "source": [
        "from sklearn.metrics import confusion_matrix\n",
        "cm=confusion_matrix(Y_test,y_pred)"
      ],
      "execution_count": 43,
      "outputs": []
    },
    {
      "cell_type": "code",
      "metadata": {
        "id": "YhuTqOCaRn_6",
        "outputId": "fe24b6e1-6586-46cd-d5f5-25a1bd48b4ef",
        "colab": {
          "base_uri": "https://localhost:8080/",
          "height": 52
        }
      },
      "source": [
        "cm"
      ],
      "execution_count": 44,
      "outputs": [
        {
          "output_type": "execute_result",
          "data": {
            "text/plain": [
              "array([[1541,   54],\n",
              "       [ 221,  184]])"
            ]
          },
          "metadata": {
            "tags": []
          },
          "execution_count": 44
        }
      ]
    },
    {
      "cell_type": "code",
      "metadata": {
        "id": "aiIxjRjbRo9R"
      },
      "source": [
        "from sklearn.metrics import accuracy_score"
      ],
      "execution_count": 45,
      "outputs": []
    },
    {
      "cell_type": "code",
      "metadata": {
        "id": "6X7KDolBRtvK"
      },
      "source": [
        "score=accuracy_score(y_pred,Y_test)"
      ],
      "execution_count": 46,
      "outputs": []
    },
    {
      "cell_type": "code",
      "metadata": {
        "id": "nUI8OcgbRxhb",
        "outputId": "e9046710-3c79-4f7a-fb4e-3981867750f5",
        "colab": {
          "base_uri": "https://localhost:8080/",
          "height": 35
        }
      },
      "source": [
        "score"
      ],
      "execution_count": 47,
      "outputs": [
        {
          "output_type": "execute_result",
          "data": {
            "text/plain": [
              "0.8625"
            ]
          },
          "metadata": {
            "tags": []
          },
          "execution_count": 47
        }
      ]
    },
    {
      "cell_type": "markdown",
      "metadata": {
        "id": "spb-Yi_bSZhy"
      },
      "source": [
        "how to apply dropout"
      ]
    },
    {
      "cell_type": "code",
      "metadata": {
        "id": "CPb8WDQmRyQR"
      },
      "source": [
        "classifier.add(Dropout(0.3))"
      ],
      "execution_count": 48,
      "outputs": []
    },
    {
      "cell_type": "markdown",
      "metadata": {
        "id": "_q9wfj1-T3N5"
      },
      "source": [
        "HYPERPARAMETER TUNING"
      ]
    },
    {
      "cell_type": "code",
      "metadata": {
        "id": "VJd3LuOJT6IJ"
      },
      "source": [
        "from keras.wrappers.scikit_learn import KerasClassifier\n",
        "from sklearn.model_selection import GridSearchCV"
      ],
      "execution_count": 49,
      "outputs": []
    },
    {
      "cell_type": "code",
      "metadata": {
        "id": "zo8vy5STUJjl"
      },
      "source": [
        "from keras.models import Sequential"
      ],
      "execution_count": 50,
      "outputs": []
    },
    {
      "cell_type": "code",
      "metadata": {
        "id": "qNFcfes7Ua-f"
      },
      "source": [
        "from keras.layers import Dense,Activation,Embedding,Flatten,BatchNormalization"
      ],
      "execution_count": 51,
      "outputs": []
    },
    {
      "cell_type": "code",
      "metadata": {
        "id": "_ag6Si2kUnVI"
      },
      "source": [
        "from keras.activations import relu,sigmoid"
      ],
      "execution_count": 52,
      "outputs": []
    },
    {
      "cell_type": "code",
      "metadata": {
        "id": "VwUNbG_hU1DG"
      },
      "source": [
        "def create_model(layers,activation):\n",
        "  model=Sequential()\n",
        "  for i,nodes in enumerate(layers):\n",
        "    if i==0:\n",
        "      model.add(Dense(nodes,input_dim=X_train.shape[1]))\n",
        "      model.add(Activation(activation))\n",
        "      model.add(Dropout(0.3))\n",
        "    else:\n",
        "      model.add(Dense(nodes))\n",
        "      model.add(Activation(activation))\n",
        "      model.add(Dropout(0.3))\n",
        "    model.add(Dense(units=1,kernel_initializer='glorot_uniform',activation='sigmoid'))\n",
        "    model.compile(optimizer='adam',loss='binary_crossentropy',metrics=['accuracy'])\n",
        "    return model\n"
      ],
      "execution_count": 53,
      "outputs": []
    },
    {
      "cell_type": "code",
      "metadata": {
        "id": "eXL99QTZWfql"
      },
      "source": [
        "model=KerasClassifier(build_fn=create_model,verbose=0)"
      ],
      "execution_count": 54,
      "outputs": []
    },
    {
      "cell_type": "code",
      "metadata": {
        "id": "kBz4dhUNW3D0"
      },
      "source": [
        "layers=[(20,),(40,20),(45,30,15)]\n",
        "activations=['sigmoid','relu']\n",
        "param_grid=dict(layers=layers,activation=activations,batch_size=[128,256],epochs=[30])\n",
        "grid=GridSearchCV(estimator=model,param_grid=param_grid,cv=5)"
      ],
      "execution_count": 55,
      "outputs": []
    },
    {
      "cell_type": "code",
      "metadata": {
        "id": "PiZB42znXqwm"
      },
      "source": [
        "grid_result=grid.fit(X_train,Y_train)"
      ],
      "execution_count": 56,
      "outputs": []
    },
    {
      "cell_type": "code",
      "metadata": {
        "id": "uUYR7VFGXwLJ",
        "outputId": "503dd05b-a8b9-4389-a50a-eca2b37c65d2",
        "colab": {
          "base_uri": "https://localhost:8080/",
          "height": 35
        }
      },
      "source": [
        "print(grid_result.best_score_,grid_result.best_params_)"
      ],
      "execution_count": 57,
      "outputs": [
        {
          "output_type": "stream",
          "text": [
            "0.853124988079071 {'activation': 'relu', 'batch_size': 128, 'epochs': 30, 'layers': (40, 20)}\n"
          ],
          "name": "stdout"
        }
      ]
    },
    {
      "cell_type": "code",
      "metadata": {
        "id": "jctlo9_7h-TV"
      },
      "source": [
        ""
      ],
      "execution_count": null,
      "outputs": []
    }
  ]
}