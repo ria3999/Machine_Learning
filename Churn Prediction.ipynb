{
 "cells": [
  {
   "cell_type": "code",
   "execution_count": 92,
   "metadata": {},
   "outputs": [],
   "source": [
    "import numpy as np\n",
    "import pandas as pd\n",
    "import seaborn as sns\n",
    "import matplotlib.pyplot as plt\n",
    "%matplotlib inline\n",
    "from sklearn.preprocessing import LabelEncoder\n",
    "from sklearn.linear_model import LogisticRegression\n",
    "from sklearn.model_selection import train_test_split\n",
    "from sklearn.metrics import accuracy_score, confusion_matrix,precision_score,recall_score"
   ]
  },
  {
   "cell_type": "code",
   "execution_count": 93,
   "metadata": {},
   "outputs": [],
   "source": [
    "df=pd.read_csv(\"C:\\\\Users\\\\riago\\\\Downloads\\\\ml-latest-small\\\\ml-latest-small\\\\churn_prediction.csv\")"
   ]
  },
  {
   "cell_type": "code",
   "execution_count": 94,
   "metadata": {},
   "outputs": [
    {
     "data": {
      "text/html": [
       "<div>\n",
       "<style scoped>\n",
       "    .dataframe tbody tr th:only-of-type {\n",
       "        vertical-align: middle;\n",
       "    }\n",
       "\n",
       "    .dataframe tbody tr th {\n",
       "        vertical-align: top;\n",
       "    }\n",
       "\n",
       "    .dataframe thead th {\n",
       "        text-align: right;\n",
       "    }\n",
       "</style>\n",
       "<table border=\"1\" class=\"dataframe\">\n",
       "  <thead>\n",
       "    <tr style=\"text-align: right;\">\n",
       "      <th></th>\n",
       "      <th>customer_id</th>\n",
       "      <th>vintage</th>\n",
       "      <th>age</th>\n",
       "      <th>gender</th>\n",
       "      <th>dependents</th>\n",
       "      <th>occupation</th>\n",
       "      <th>city</th>\n",
       "      <th>customer_nw_category</th>\n",
       "      <th>branch_code</th>\n",
       "      <th>days_since_last_transaction</th>\n",
       "      <th>...</th>\n",
       "      <th>previous_month_end_balance</th>\n",
       "      <th>average_monthly_balance_prevQ</th>\n",
       "      <th>average_monthly_balance_prevQ2</th>\n",
       "      <th>current_month_credit</th>\n",
       "      <th>previous_month_credit</th>\n",
       "      <th>current_month_debit</th>\n",
       "      <th>previous_month_debit</th>\n",
       "      <th>current_month_balance</th>\n",
       "      <th>previous_month_balance</th>\n",
       "      <th>churn</th>\n",
       "    </tr>\n",
       "  </thead>\n",
       "  <tbody>\n",
       "    <tr>\n",
       "      <th>0</th>\n",
       "      <td>1</td>\n",
       "      <td>3135</td>\n",
       "      <td>66</td>\n",
       "      <td>Male</td>\n",
       "      <td>0.0</td>\n",
       "      <td>self_employed</td>\n",
       "      <td>187.0</td>\n",
       "      <td>2</td>\n",
       "      <td>755</td>\n",
       "      <td>224.0</td>\n",
       "      <td>...</td>\n",
       "      <td>1458.71</td>\n",
       "      <td>1458.71</td>\n",
       "      <td>1449.07</td>\n",
       "      <td>0.20</td>\n",
       "      <td>0.20</td>\n",
       "      <td>0.20</td>\n",
       "      <td>0.20</td>\n",
       "      <td>1458.71</td>\n",
       "      <td>1458.71</td>\n",
       "      <td>0</td>\n",
       "    </tr>\n",
       "    <tr>\n",
       "      <th>1</th>\n",
       "      <td>2</td>\n",
       "      <td>310</td>\n",
       "      <td>35</td>\n",
       "      <td>Male</td>\n",
       "      <td>0.0</td>\n",
       "      <td>self_employed</td>\n",
       "      <td>NaN</td>\n",
       "      <td>2</td>\n",
       "      <td>3214</td>\n",
       "      <td>60.0</td>\n",
       "      <td>...</td>\n",
       "      <td>8704.66</td>\n",
       "      <td>7799.26</td>\n",
       "      <td>12419.41</td>\n",
       "      <td>0.56</td>\n",
       "      <td>0.56</td>\n",
       "      <td>5486.27</td>\n",
       "      <td>100.56</td>\n",
       "      <td>6496.78</td>\n",
       "      <td>8787.61</td>\n",
       "      <td>0</td>\n",
       "    </tr>\n",
       "    <tr>\n",
       "      <th>2</th>\n",
       "      <td>4</td>\n",
       "      <td>2356</td>\n",
       "      <td>31</td>\n",
       "      <td>Male</td>\n",
       "      <td>0.0</td>\n",
       "      <td>salaried</td>\n",
       "      <td>146.0</td>\n",
       "      <td>2</td>\n",
       "      <td>41</td>\n",
       "      <td>NaN</td>\n",
       "      <td>...</td>\n",
       "      <td>5815.29</td>\n",
       "      <td>4910.17</td>\n",
       "      <td>2815.94</td>\n",
       "      <td>0.61</td>\n",
       "      <td>0.61</td>\n",
       "      <td>6046.73</td>\n",
       "      <td>259.23</td>\n",
       "      <td>5006.28</td>\n",
       "      <td>5070.14</td>\n",
       "      <td>0</td>\n",
       "    </tr>\n",
       "    <tr>\n",
       "      <th>3</th>\n",
       "      <td>5</td>\n",
       "      <td>478</td>\n",
       "      <td>90</td>\n",
       "      <td>NaN</td>\n",
       "      <td>NaN</td>\n",
       "      <td>self_employed</td>\n",
       "      <td>1020.0</td>\n",
       "      <td>2</td>\n",
       "      <td>582</td>\n",
       "      <td>147.0</td>\n",
       "      <td>...</td>\n",
       "      <td>2291.91</td>\n",
       "      <td>2084.54</td>\n",
       "      <td>1006.54</td>\n",
       "      <td>0.47</td>\n",
       "      <td>0.47</td>\n",
       "      <td>0.47</td>\n",
       "      <td>2143.33</td>\n",
       "      <td>2291.91</td>\n",
       "      <td>1669.79</td>\n",
       "      <td>1</td>\n",
       "    </tr>\n",
       "    <tr>\n",
       "      <th>4</th>\n",
       "      <td>6</td>\n",
       "      <td>2531</td>\n",
       "      <td>42</td>\n",
       "      <td>Male</td>\n",
       "      <td>2.0</td>\n",
       "      <td>self_employed</td>\n",
       "      <td>1494.0</td>\n",
       "      <td>3</td>\n",
       "      <td>388</td>\n",
       "      <td>58.0</td>\n",
       "      <td>...</td>\n",
       "      <td>1401.72</td>\n",
       "      <td>1643.31</td>\n",
       "      <td>1871.12</td>\n",
       "      <td>0.33</td>\n",
       "      <td>714.61</td>\n",
       "      <td>588.62</td>\n",
       "      <td>1538.06</td>\n",
       "      <td>1157.15</td>\n",
       "      <td>1677.16</td>\n",
       "      <td>1</td>\n",
       "    </tr>\n",
       "  </tbody>\n",
       "</table>\n",
       "<p>5 rows × 21 columns</p>\n",
       "</div>"
      ],
      "text/plain": [
       "   customer_id  vintage  age gender  dependents     occupation    city  \\\n",
       "0            1     3135   66   Male         0.0  self_employed   187.0   \n",
       "1            2      310   35   Male         0.0  self_employed     NaN   \n",
       "2            4     2356   31   Male         0.0       salaried   146.0   \n",
       "3            5      478   90    NaN         NaN  self_employed  1020.0   \n",
       "4            6     2531   42   Male         2.0  self_employed  1494.0   \n",
       "\n",
       "   customer_nw_category  branch_code  days_since_last_transaction  ...  \\\n",
       "0                     2          755                        224.0  ...   \n",
       "1                     2         3214                         60.0  ...   \n",
       "2                     2           41                          NaN  ...   \n",
       "3                     2          582                        147.0  ...   \n",
       "4                     3          388                         58.0  ...   \n",
       "\n",
       "   previous_month_end_balance  average_monthly_balance_prevQ  \\\n",
       "0                     1458.71                        1458.71   \n",
       "1                     8704.66                        7799.26   \n",
       "2                     5815.29                        4910.17   \n",
       "3                     2291.91                        2084.54   \n",
       "4                     1401.72                        1643.31   \n",
       "\n",
       "   average_monthly_balance_prevQ2  current_month_credit  \\\n",
       "0                         1449.07                  0.20   \n",
       "1                        12419.41                  0.56   \n",
       "2                         2815.94                  0.61   \n",
       "3                         1006.54                  0.47   \n",
       "4                         1871.12                  0.33   \n",
       "\n",
       "   previous_month_credit  current_month_debit  previous_month_debit  \\\n",
       "0                   0.20                 0.20                  0.20   \n",
       "1                   0.56              5486.27                100.56   \n",
       "2                   0.61              6046.73                259.23   \n",
       "3                   0.47                 0.47               2143.33   \n",
       "4                 714.61               588.62               1538.06   \n",
       "\n",
       "   current_month_balance  previous_month_balance  churn  \n",
       "0                1458.71                 1458.71      0  \n",
       "1                6496.78                 8787.61      0  \n",
       "2                5006.28                 5070.14      0  \n",
       "3                2291.91                 1669.79      1  \n",
       "4                1157.15                 1677.16      1  \n",
       "\n",
       "[5 rows x 21 columns]"
      ]
     },
     "execution_count": 94,
     "metadata": {},
     "output_type": "execute_result"
    }
   ],
   "source": [
    "df.head()"
   ]
  },
  {
   "cell_type": "code",
   "execution_count": 95,
   "metadata": {},
   "outputs": [
    {
     "data": {
      "text/plain": [
       "customer_id                          0\n",
       "vintage                              0\n",
       "age                                  0\n",
       "gender                             525\n",
       "dependents                        2463\n",
       "occupation                          80\n",
       "city                               803\n",
       "customer_nw_category                 0\n",
       "branch_code                          0\n",
       "days_since_last_transaction       3223\n",
       "current_balance                      0\n",
       "previous_month_end_balance           0\n",
       "average_monthly_balance_prevQ        0\n",
       "average_monthly_balance_prevQ2       0\n",
       "current_month_credit                 0\n",
       "previous_month_credit                0\n",
       "current_month_debit                  0\n",
       "previous_month_debit                 0\n",
       "current_month_balance                0\n",
       "previous_month_balance               0\n",
       "churn                                0\n",
       "dtype: int64"
      ]
     },
     "execution_count": 95,
     "metadata": {},
     "output_type": "execute_result"
    }
   ],
   "source": [
    "pd.isnull(df).sum()"
   ]
  },
  {
   "cell_type": "code",
   "execution_count": 96,
   "metadata": {},
   "outputs": [
    {
     "data": {
      "text/plain": [
       "Male      16548\n",
       "Female    11309\n",
       "Name: gender, dtype: int64"
      ]
     },
     "execution_count": 96,
     "metadata": {},
     "output_type": "execute_result"
    }
   ],
   "source": [
    "df['gender'].value_counts()"
   ]
  },
  {
   "cell_type": "code",
   "execution_count": 97,
   "metadata": {},
   "outputs": [],
   "source": [
    "dict_gender = {'Male': 1, 'Female':0}\n",
    "df.replace({'gender': dict_gender}, inplace = True)\n",
    "\n",
    "df['gender'] = df['gender'].fillna(-1)"
   ]
  },
  {
   "cell_type": "code",
   "execution_count": 98,
   "metadata": {},
   "outputs": [
    {
     "data": {
      "text/plain": [
       "0.0     21435\n",
       "2.0      2150\n",
       "1.0      1395\n",
       "3.0       701\n",
       "4.0       179\n",
       "5.0        41\n",
       "6.0         8\n",
       "7.0         3\n",
       "36.0        1\n",
       "52.0        1\n",
       "25.0        1\n",
       "9.0         1\n",
       "50.0        1\n",
       "32.0        1\n",
       "8.0         1\n",
       "Name: dependents, dtype: int64"
      ]
     },
     "execution_count": 98,
     "metadata": {},
     "output_type": "execute_result"
    }
   ],
   "source": [
    "df['dependents'].value_counts()"
   ]
  },
  {
   "cell_type": "code",
   "execution_count": 99,
   "metadata": {},
   "outputs": [
    {
     "data": {
      "text/plain": [
       "self_employed    17476\n",
       "salaried          6704\n",
       "student           2058\n",
       "retired           2024\n",
       "company             40\n",
       "Name: occupation, dtype: int64"
      ]
     },
     "execution_count": 99,
     "metadata": {},
     "output_type": "execute_result"
    }
   ],
   "source": [
    "df['occupation'].value_counts()"
   ]
  },
  {
   "cell_type": "code",
   "execution_count": 100,
   "metadata": {},
   "outputs": [],
   "source": [
    "df['dependents'] = df['dependents'].fillna(0)\n",
    "df['occupation'] = df['occupation'].fillna('self_employed')"
   ]
  },
  {
   "cell_type": "code",
   "execution_count": 101,
   "metadata": {},
   "outputs": [
    {
     "data": {
      "text/plain": [
       "1020.0    3479\n",
       "1096.0    2016\n",
       "409.0     1334\n",
       "146.0     1291\n",
       "834.0     1138\n",
       "          ... \n",
       "629.0        1\n",
       "527.0        1\n",
       "1212.0       1\n",
       "530.0        1\n",
       "70.0         1\n",
       "Name: city, Length: 1604, dtype: int64"
      ]
     },
     "execution_count": 101,
     "metadata": {},
     "output_type": "execute_result"
    }
   ],
   "source": [
    "df['city'].value_counts()"
   ]
  },
  {
   "cell_type": "code",
   "execution_count": 102,
   "metadata": {},
   "outputs": [],
   "source": [
    "df['city'] = df['city'].fillna(1020)"
   ]
  },
  {
   "cell_type": "code",
   "execution_count": 103,
   "metadata": {},
   "outputs": [
    {
     "data": {
      "text/plain": [
       "0.0      1672\n",
       "3.0       831\n",
       "14.0      654\n",
       "4.0       632\n",
       "6.0       596\n",
       "         ... \n",
       "170.0       1\n",
       "218.0       1\n",
       "334.0       1\n",
       "288.0       1\n",
       "321.0       1\n",
       "Name: days_since_last_transaction, Length: 360, dtype: int64"
      ]
     },
     "execution_count": 103,
     "metadata": {},
     "output_type": "execute_result"
    }
   ],
   "source": [
    "df['days_since_last_transaction'].value_counts()"
   ]
  },
  {
   "cell_type": "code",
   "execution_count": 104,
   "metadata": {},
   "outputs": [],
   "source": [
    "df['days_since_last_transaction'] = df['days_since_last_transaction'].fillna(0)"
   ]
  },
  {
   "cell_type": "code",
   "execution_count": 105,
   "metadata": {},
   "outputs": [],
   "source": [
    "df = pd.concat([df,pd.get_dummies(df['occupation'],prefix = str('occupation'),prefix_sep='_')],axis = 1)"
   ]
  },
  {
   "cell_type": "code",
   "execution_count": 119,
   "metadata": {},
   "outputs": [],
   "source": [
    "train,test=train_test_split(df,test_size=0.2,random_state=12)"
   ]
  },
  {
   "cell_type": "code",
   "execution_count": 120,
   "metadata": {},
   "outputs": [
    {
     "data": {
      "text/plain": [
       "((22705, 26), (5677, 26))"
      ]
     },
     "execution_count": 120,
     "metadata": {},
     "output_type": "execute_result"
    }
   ],
   "source": [
    "train.shape,test.shape"
   ]
  },
  {
   "cell_type": "code",
   "execution_count": 121,
   "metadata": {},
   "outputs": [],
   "source": [
    "def train_test(df):\n",
    "    length=len(df)\n",
    "    train=df.iloc[:712,:]\n",
    "    test=df.iloc[712:,]\n",
    "    return train,test"
   ]
  },
  {
   "cell_type": "code",
   "execution_count": 123,
   "metadata": {},
   "outputs": [],
   "source": [
    "train,test=train_test(df)"
   ]
  },
  {
   "cell_type": "code",
   "execution_count": 124,
   "metadata": {},
   "outputs": [
    {
     "name": "stderr",
     "output_type": "stream",
     "text": [
      "C:\\Users\\riago\\AppData\\Roaming\\Python\\Python37\\site-packages\\ipykernel_launcher.py:3: SettingWithCopyWarning: \n",
      "A value is trying to be set on a copy of a slice from a DataFrame.\n",
      "Try using .loc[row_indexer,col_indexer] = value instead\n",
      "\n",
      "See the caveats in the documentation: http://pandas.pydata.org/pandas-docs/stable/user_guide/indexing.html#returning-a-view-versus-a-copy\n",
      "  This is separate from the ipykernel package so we can avoid doing imports until\n",
      "C:\\Users\\riago\\AppData\\Roaming\\Python\\Python37\\site-packages\\ipykernel_launcher.py:4: SettingWithCopyWarning: \n",
      "A value is trying to be set on a copy of a slice from a DataFrame.\n",
      "Try using .loc[row_indexer,col_indexer] = value instead\n",
      "\n",
      "See the caveats in the documentation: http://pandas.pydata.org/pandas-docs/stable/user_guide/indexing.html#returning-a-view-versus-a-copy\n",
      "  after removing the cwd from sys.path.\n"
     ]
    }
   ],
   "source": [
    "from sklearn.preprocessing import LabelEncoder\n",
    "label=LabelEncoder()\n",
    "train['occupation']=label.fit_transform(train['occupation'])\n",
    "test['occupation']=label.fit_transform(test['occupation'])"
   ]
  },
  {
   "cell_type": "code",
   "execution_count": 125,
   "metadata": {},
   "outputs": [
    {
     "data": {
      "text/html": [
       "<div>\n",
       "<style scoped>\n",
       "    .dataframe tbody tr th:only-of-type {\n",
       "        vertical-align: middle;\n",
       "    }\n",
       "\n",
       "    .dataframe tbody tr th {\n",
       "        vertical-align: top;\n",
       "    }\n",
       "\n",
       "    .dataframe thead th {\n",
       "        text-align: right;\n",
       "    }\n",
       "</style>\n",
       "<table border=\"1\" class=\"dataframe\">\n",
       "  <thead>\n",
       "    <tr style=\"text-align: right;\">\n",
       "      <th></th>\n",
       "      <th>customer_id</th>\n",
       "      <th>vintage</th>\n",
       "      <th>age</th>\n",
       "      <th>gender</th>\n",
       "      <th>dependents</th>\n",
       "      <th>occupation</th>\n",
       "      <th>city</th>\n",
       "      <th>customer_nw_category</th>\n",
       "      <th>branch_code</th>\n",
       "      <th>days_since_last_transaction</th>\n",
       "      <th>...</th>\n",
       "      <th>current_month_debit</th>\n",
       "      <th>previous_month_debit</th>\n",
       "      <th>current_month_balance</th>\n",
       "      <th>previous_month_balance</th>\n",
       "      <th>churn</th>\n",
       "      <th>occupation_company</th>\n",
       "      <th>occupation_retired</th>\n",
       "      <th>occupation_salaried</th>\n",
       "      <th>occupation_self_employed</th>\n",
       "      <th>occupation_student</th>\n",
       "    </tr>\n",
       "  </thead>\n",
       "  <tbody>\n",
       "    <tr>\n",
       "      <th>0</th>\n",
       "      <td>1</td>\n",
       "      <td>3135</td>\n",
       "      <td>66</td>\n",
       "      <td>1.0</td>\n",
       "      <td>0.0</td>\n",
       "      <td>self_employed</td>\n",
       "      <td>187.0</td>\n",
       "      <td>2</td>\n",
       "      <td>755</td>\n",
       "      <td>224.0</td>\n",
       "      <td>...</td>\n",
       "      <td>0.20</td>\n",
       "      <td>0.20</td>\n",
       "      <td>1458.71</td>\n",
       "      <td>1458.71</td>\n",
       "      <td>0</td>\n",
       "      <td>0</td>\n",
       "      <td>0</td>\n",
       "      <td>0</td>\n",
       "      <td>1</td>\n",
       "      <td>0</td>\n",
       "    </tr>\n",
       "    <tr>\n",
       "      <th>1</th>\n",
       "      <td>2</td>\n",
       "      <td>310</td>\n",
       "      <td>35</td>\n",
       "      <td>1.0</td>\n",
       "      <td>0.0</td>\n",
       "      <td>self_employed</td>\n",
       "      <td>1020.0</td>\n",
       "      <td>2</td>\n",
       "      <td>3214</td>\n",
       "      <td>60.0</td>\n",
       "      <td>...</td>\n",
       "      <td>5486.27</td>\n",
       "      <td>100.56</td>\n",
       "      <td>6496.78</td>\n",
       "      <td>8787.61</td>\n",
       "      <td>0</td>\n",
       "      <td>0</td>\n",
       "      <td>0</td>\n",
       "      <td>0</td>\n",
       "      <td>1</td>\n",
       "      <td>0</td>\n",
       "    </tr>\n",
       "    <tr>\n",
       "      <th>2</th>\n",
       "      <td>4</td>\n",
       "      <td>2356</td>\n",
       "      <td>31</td>\n",
       "      <td>1.0</td>\n",
       "      <td>0.0</td>\n",
       "      <td>salaried</td>\n",
       "      <td>146.0</td>\n",
       "      <td>2</td>\n",
       "      <td>41</td>\n",
       "      <td>0.0</td>\n",
       "      <td>...</td>\n",
       "      <td>6046.73</td>\n",
       "      <td>259.23</td>\n",
       "      <td>5006.28</td>\n",
       "      <td>5070.14</td>\n",
       "      <td>0</td>\n",
       "      <td>0</td>\n",
       "      <td>0</td>\n",
       "      <td>1</td>\n",
       "      <td>0</td>\n",
       "      <td>0</td>\n",
       "    </tr>\n",
       "    <tr>\n",
       "      <th>3</th>\n",
       "      <td>5</td>\n",
       "      <td>478</td>\n",
       "      <td>90</td>\n",
       "      <td>-1.0</td>\n",
       "      <td>0.0</td>\n",
       "      <td>self_employed</td>\n",
       "      <td>1020.0</td>\n",
       "      <td>2</td>\n",
       "      <td>582</td>\n",
       "      <td>147.0</td>\n",
       "      <td>...</td>\n",
       "      <td>0.47</td>\n",
       "      <td>2143.33</td>\n",
       "      <td>2291.91</td>\n",
       "      <td>1669.79</td>\n",
       "      <td>1</td>\n",
       "      <td>0</td>\n",
       "      <td>0</td>\n",
       "      <td>0</td>\n",
       "      <td>1</td>\n",
       "      <td>0</td>\n",
       "    </tr>\n",
       "    <tr>\n",
       "      <th>4</th>\n",
       "      <td>6</td>\n",
       "      <td>2531</td>\n",
       "      <td>42</td>\n",
       "      <td>1.0</td>\n",
       "      <td>2.0</td>\n",
       "      <td>self_employed</td>\n",
       "      <td>1494.0</td>\n",
       "      <td>3</td>\n",
       "      <td>388</td>\n",
       "      <td>58.0</td>\n",
       "      <td>...</td>\n",
       "      <td>588.62</td>\n",
       "      <td>1538.06</td>\n",
       "      <td>1157.15</td>\n",
       "      <td>1677.16</td>\n",
       "      <td>1</td>\n",
       "      <td>0</td>\n",
       "      <td>0</td>\n",
       "      <td>0</td>\n",
       "      <td>1</td>\n",
       "      <td>0</td>\n",
       "    </tr>\n",
       "    <tr>\n",
       "      <th>...</th>\n",
       "      <td>...</td>\n",
       "      <td>...</td>\n",
       "      <td>...</td>\n",
       "      <td>...</td>\n",
       "      <td>...</td>\n",
       "      <td>...</td>\n",
       "      <td>...</td>\n",
       "      <td>...</td>\n",
       "      <td>...</td>\n",
       "      <td>...</td>\n",
       "      <td>...</td>\n",
       "      <td>...</td>\n",
       "      <td>...</td>\n",
       "      <td>...</td>\n",
       "      <td>...</td>\n",
       "      <td>...</td>\n",
       "      <td>...</td>\n",
       "      <td>...</td>\n",
       "      <td>...</td>\n",
       "      <td>...</td>\n",
       "      <td>...</td>\n",
       "    </tr>\n",
       "    <tr>\n",
       "      <th>28377</th>\n",
       "      <td>30297</td>\n",
       "      <td>1845</td>\n",
       "      <td>10</td>\n",
       "      <td>0.0</td>\n",
       "      <td>0.0</td>\n",
       "      <td>student</td>\n",
       "      <td>1020.0</td>\n",
       "      <td>2</td>\n",
       "      <td>1207</td>\n",
       "      <td>70.0</td>\n",
       "      <td>...</td>\n",
       "      <td>0.30</td>\n",
       "      <td>0.30</td>\n",
       "      <td>1076.43</td>\n",
       "      <td>1076.43</td>\n",
       "      <td>0</td>\n",
       "      <td>0</td>\n",
       "      <td>0</td>\n",
       "      <td>0</td>\n",
       "      <td>0</td>\n",
       "      <td>1</td>\n",
       "    </tr>\n",
       "    <tr>\n",
       "      <th>28378</th>\n",
       "      <td>30298</td>\n",
       "      <td>4919</td>\n",
       "      <td>34</td>\n",
       "      <td>0.0</td>\n",
       "      <td>0.0</td>\n",
       "      <td>self_employed</td>\n",
       "      <td>1046.0</td>\n",
       "      <td>2</td>\n",
       "      <td>223</td>\n",
       "      <td>14.0</td>\n",
       "      <td>...</td>\n",
       "      <td>901.00</td>\n",
       "      <td>1014.07</td>\n",
       "      <td>3738.54</td>\n",
       "      <td>3690.32</td>\n",
       "      <td>0</td>\n",
       "      <td>0</td>\n",
       "      <td>0</td>\n",
       "      <td>0</td>\n",
       "      <td>1</td>\n",
       "      <td>0</td>\n",
       "    </tr>\n",
       "    <tr>\n",
       "      <th>28379</th>\n",
       "      <td>30299</td>\n",
       "      <td>297</td>\n",
       "      <td>47</td>\n",
       "      <td>1.0</td>\n",
       "      <td>0.0</td>\n",
       "      <td>salaried</td>\n",
       "      <td>1096.0</td>\n",
       "      <td>2</td>\n",
       "      <td>588</td>\n",
       "      <td>0.0</td>\n",
       "      <td>...</td>\n",
       "      <td>168.23</td>\n",
       "      <td>71.80</td>\n",
       "      <td>61078.50</td>\n",
       "      <td>57564.24</td>\n",
       "      <td>1</td>\n",
       "      <td>0</td>\n",
       "      <td>0</td>\n",
       "      <td>1</td>\n",
       "      <td>0</td>\n",
       "      <td>0</td>\n",
       "    </tr>\n",
       "    <tr>\n",
       "      <th>28380</th>\n",
       "      <td>30300</td>\n",
       "      <td>2585</td>\n",
       "      <td>50</td>\n",
       "      <td>1.0</td>\n",
       "      <td>3.0</td>\n",
       "      <td>self_employed</td>\n",
       "      <td>1219.0</td>\n",
       "      <td>3</td>\n",
       "      <td>274</td>\n",
       "      <td>0.0</td>\n",
       "      <td>...</td>\n",
       "      <td>0.20</td>\n",
       "      <td>0.20</td>\n",
       "      <td>1625.55</td>\n",
       "      <td>1625.55</td>\n",
       "      <td>0</td>\n",
       "      <td>0</td>\n",
       "      <td>0</td>\n",
       "      <td>0</td>\n",
       "      <td>1</td>\n",
       "      <td>0</td>\n",
       "    </tr>\n",
       "    <tr>\n",
       "      <th>28381</th>\n",
       "      <td>30301</td>\n",
       "      <td>2349</td>\n",
       "      <td>18</td>\n",
       "      <td>1.0</td>\n",
       "      <td>0.0</td>\n",
       "      <td>student</td>\n",
       "      <td>1232.0</td>\n",
       "      <td>2</td>\n",
       "      <td>474</td>\n",
       "      <td>59.0</td>\n",
       "      <td>...</td>\n",
       "      <td>714.40</td>\n",
       "      <td>1094.09</td>\n",
       "      <td>2402.62</td>\n",
       "      <td>3260.58</td>\n",
       "      <td>1</td>\n",
       "      <td>0</td>\n",
       "      <td>0</td>\n",
       "      <td>0</td>\n",
       "      <td>0</td>\n",
       "      <td>1</td>\n",
       "    </tr>\n",
       "  </tbody>\n",
       "</table>\n",
       "<p>28382 rows × 26 columns</p>\n",
       "</div>"
      ],
      "text/plain": [
       "       customer_id  vintage  age  gender  dependents     occupation    city  \\\n",
       "0                1     3135   66     1.0         0.0  self_employed   187.0   \n",
       "1                2      310   35     1.0         0.0  self_employed  1020.0   \n",
       "2                4     2356   31     1.0         0.0       salaried   146.0   \n",
       "3                5      478   90    -1.0         0.0  self_employed  1020.0   \n",
       "4                6     2531   42     1.0         2.0  self_employed  1494.0   \n",
       "...            ...      ...  ...     ...         ...            ...     ...   \n",
       "28377        30297     1845   10     0.0         0.0        student  1020.0   \n",
       "28378        30298     4919   34     0.0         0.0  self_employed  1046.0   \n",
       "28379        30299      297   47     1.0         0.0       salaried  1096.0   \n",
       "28380        30300     2585   50     1.0         3.0  self_employed  1219.0   \n",
       "28381        30301     2349   18     1.0         0.0        student  1232.0   \n",
       "\n",
       "       customer_nw_category  branch_code  days_since_last_transaction  ...  \\\n",
       "0                         2          755                        224.0  ...   \n",
       "1                         2         3214                         60.0  ...   \n",
       "2                         2           41                          0.0  ...   \n",
       "3                         2          582                        147.0  ...   \n",
       "4                         3          388                         58.0  ...   \n",
       "...                     ...          ...                          ...  ...   \n",
       "28377                     2         1207                         70.0  ...   \n",
       "28378                     2          223                         14.0  ...   \n",
       "28379                     2          588                          0.0  ...   \n",
       "28380                     3          274                          0.0  ...   \n",
       "28381                     2          474                         59.0  ...   \n",
       "\n",
       "       current_month_debit  previous_month_debit  current_month_balance  \\\n",
       "0                     0.20                  0.20                1458.71   \n",
       "1                  5486.27                100.56                6496.78   \n",
       "2                  6046.73                259.23                5006.28   \n",
       "3                     0.47               2143.33                2291.91   \n",
       "4                   588.62               1538.06                1157.15   \n",
       "...                    ...                   ...                    ...   \n",
       "28377                 0.30                  0.30                1076.43   \n",
       "28378               901.00               1014.07                3738.54   \n",
       "28379               168.23                 71.80               61078.50   \n",
       "28380                 0.20                  0.20                1625.55   \n",
       "28381               714.40               1094.09                2402.62   \n",
       "\n",
       "       previous_month_balance  churn  occupation_company  occupation_retired  \\\n",
       "0                     1458.71      0                   0                   0   \n",
       "1                     8787.61      0                   0                   0   \n",
       "2                     5070.14      0                   0                   0   \n",
       "3                     1669.79      1                   0                   0   \n",
       "4                     1677.16      1                   0                   0   \n",
       "...                       ...    ...                 ...                 ...   \n",
       "28377                 1076.43      0                   0                   0   \n",
       "28378                 3690.32      0                   0                   0   \n",
       "28379                57564.24      1                   0                   0   \n",
       "28380                 1625.55      0                   0                   0   \n",
       "28381                 3260.58      1                   0                   0   \n",
       "\n",
       "       occupation_salaried  occupation_self_employed  occupation_student  \n",
       "0                        0                         1                   0  \n",
       "1                        0                         1                   0  \n",
       "2                        1                         0                   0  \n",
       "3                        0                         1                   0  \n",
       "4                        0                         1                   0  \n",
       "...                    ...                       ...                 ...  \n",
       "28377                    0                         0                   1  \n",
       "28378                    0                         1                   0  \n",
       "28379                    1                         0                   0  \n",
       "28380                    0                         1                   0  \n",
       "28381                    0                         0                   1  \n",
       "\n",
       "[28382 rows x 26 columns]"
      ]
     },
     "execution_count": 125,
     "metadata": {},
     "output_type": "execute_result"
    }
   ],
   "source": [
    "df"
   ]
  },
  {
   "cell_type": "code",
   "execution_count": 126,
   "metadata": {},
   "outputs": [],
   "source": [
    "def x_and_y (df):\n",
    "    x=df.drop(['churn'],axis=1)\n",
    "    y=df['churn']\n",
    "    return x,y"
   ]
  },
  {
   "cell_type": "code",
   "execution_count": 127,
   "metadata": {},
   "outputs": [],
   "source": [
    "x_train,y_train=x_and_y(train)\n",
    "x_test,y_test=x_and_y(test)"
   ]
  },
  {
   "cell_type": "code",
   "execution_count": 128,
   "metadata": {},
   "outputs": [
    {
     "name": "stdout",
     "output_type": "stream",
     "text": [
      "81.77087097940007\n"
     ]
    },
    {
     "name": "stderr",
     "output_type": "stream",
     "text": [
      "C:\\Users\\riago\\AppData\\Local\\Programs\\Python\\Python37\\lib\\site-packages\\sklearn\\linear_model\\logistic.py:432: FutureWarning: Default solver will be changed to 'lbfgs' in 0.22. Specify a solver to silence this warning.\n",
      "  FutureWarning)\n"
     ]
    }
   ],
   "source": [
    "log_model= LogisticRegression()\n",
    "log_model.fit(x_train,y_train)\n",
    "prediction=log_model.predict(x_test)\n",
    "score=accuracy_score(y_test,prediction)\n",
    "print(score*100)"
   ]
  },
  {
   "cell_type": "code",
   "execution_count": 129,
   "metadata": {},
   "outputs": [
    {
     "data": {
      "text/plain": [
       "0.02884990253411306"
      ]
     },
     "execution_count": 129,
     "metadata": {},
     "output_type": "execute_result"
    }
   ],
   "source": [
    "recall_score(y_test,prediction)"
   ]
  },
  {
   "cell_type": "code",
   "execution_count": 130,
   "metadata": {},
   "outputs": [
    {
     "data": {
      "text/plain": [
       "0.7047619047619048"
      ]
     },
     "execution_count": 130,
     "metadata": {},
     "output_type": "execute_result"
    }
   ],
   "source": [
    "precision_score(y_test,prediction)"
   ]
  },
  {
   "cell_type": "code",
   "execution_count": 131,
   "metadata": {},
   "outputs": [
    {
     "data": {
      "text/plain": [
       "0    23122\n",
       "1     5260\n",
       "Name: churn, dtype: int64"
      ]
     },
     "execution_count": 131,
     "metadata": {},
     "output_type": "execute_result"
    }
   ],
   "source": [
    "df['churn'].value_counts()"
   ]
  },
  {
   "cell_type": "code",
   "execution_count": 132,
   "metadata": {},
   "outputs": [],
   "source": [
    "from sklearn.tree import DecisionTreeClassifier"
   ]
  },
  {
   "cell_type": "code",
   "execution_count": 211,
   "metadata": {},
   "outputs": [
    {
     "name": "stdout",
     "output_type": "stream",
     "text": [
      "0.838164076617275\n"
     ]
    }
   ],
   "source": [
    "dcs=DecisionTreeClassifier(criterion='entropy',min_samples_leaf=34,max_leaf_nodes=45,max_depth=24)\n",
    "dcs.fit(x_train,y_train)\n",
    "prediction=dcs.predict(x_test)\n",
    "score=accuracy_score(y_test,prediction)\n",
    "print(score)"
   ]
  },
  {
   "cell_type": "code",
   "execution_count": 212,
   "metadata": {},
   "outputs": [
    {
     "data": {
      "text/plain": [
       "0.44853801169590646"
      ]
     },
     "execution_count": 212,
     "metadata": {},
     "output_type": "execute_result"
    }
   ],
   "source": [
    "recall_score(y_test,prediction)"
   ]
  }
 ],
 "metadata": {
  "kernelspec": {
   "display_name": "'Python Interactive'",
   "language": "python",
   "name": "06cd1862-aaf8-4278-8def-a11d3d34f3f3"
  },
  "language_info": {
   "codemirror_mode": {
    "name": "ipython",
    "version": 3
   },
   "file_extension": ".py",
   "mimetype": "text/x-python",
   "name": "python",
   "nbconvert_exporter": "python",
   "pygments_lexer": "ipython3",
   "version": "3.7.4"
  }
 },
 "nbformat": 4,
 "nbformat_minor": 2
}
