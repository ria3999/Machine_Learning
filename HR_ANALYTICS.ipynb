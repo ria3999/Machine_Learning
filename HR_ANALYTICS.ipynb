{
  "nbformat": 4,
  "nbformat_minor": 0,
  "metadata": {
    "colab": {
      "name": "HR_ANALYTICS.ipynb",
      "provenance": [],
      "authorship_tag": "ABX9TyMaHbe1ws5cNlZGOPyFhQkm",
      "include_colab_link": true
    },
    "kernelspec": {
      "name": "python3",
      "display_name": "Python 3"
    }
  },
  "cells": [
    {
      "cell_type": "markdown",
      "metadata": {
        "id": "view-in-github",
        "colab_type": "text"
      },
      "source": [
        "<a href=\"https://colab.research.google.com/github/ria3999/mahine_learning-codes/blob/master/HR_ANALYTICS.ipynb\" target=\"_parent\"><img src=\"https://colab.research.google.com/assets/colab-badge.svg\" alt=\"Open In Colab\"/></a>"
      ]
    },
    {
      "cell_type": "code",
      "metadata": {
        "id": "27wjzw9VyCgv"
      },
      "source": [
        "from sklearn.model_selection import train_test_split\n",
        "from sklearn.metrics import f1_score\n",
        "import matplotlib.pyplot as plt\n",
        "import seaborn as sns\n",
        "import pandas as pd\n",
        "import numpy as np\n",
        "import warnings\n",
        "import os"
      ],
      "execution_count": 2,
      "outputs": []
    },
    {
      "cell_type": "code",
      "metadata": {
        "id": "gtanggx7yT1G"
      },
      "source": [
        "DeprecationWarning('ignore')\n",
        "warnings.filterwarnings('ignore',message=\"ignore it\")"
      ],
      "execution_count": 3,
      "outputs": []
    },
    {
      "cell_type": "code",
      "metadata": {
        "id": "jR-Rozk5ymbI"
      },
      "source": [
        "df=pd.read_csv('hr_train.csv')"
      ],
      "execution_count": 4,
      "outputs": []
    },
    {
      "cell_type": "code",
      "metadata": {
        "id": "UZUgWYKUytwX"
      },
      "source": [
        "def others(df):\n",
        "    df=df.drop(['employee_id','recruitment_channel','gender'],axis=1)\n",
        "    df['previous_year_rating'].fillna(3.0,inplace=True)\n",
        "    df['education'].fillna(\"Bachelor's\",inplace=True)\n",
        "    df['work_ratio']=df['length_of_service']/df['age']\n",
        "    df['start_year']=df['age']-df['length_of_service']\n",
        "    df['total_performance']=df['previous_year_rating']+df['KPIs_met >80%']+df['awards_won?']+df['avg_training_score']\n",
        "    df['training_score']=df['avg_training_score']*df['no_of_trainings']\n",
        "    df['total_performance'].fillna(df['total_performance'].mean(),inplace=True)\n",
        "    return(df)"
      ],
      "execution_count": 5,
      "outputs": []
    },
    {
      "cell_type": "code",
      "metadata": {
        "id": "Bou-3_CVy52T"
      },
      "source": [
        "def bini(df):\n",
        "    bins1=[20,35,45,60]\n",
        "    label1=['young','adult','old']\n",
        "    df['age']=pd.cut(df['age'],bins1,labels=label1,include_lowest=True)\n",
        "    return(df)"
      ],
      "execution_count": 6,
      "outputs": []
    },
    {
      "cell_type": "code",
      "metadata": {
        "id": "04_JMij-y9_k"
      },
      "source": [
        "def label_encode(df):\n",
        "    from sklearn.preprocessing import LabelEncoder\n",
        "    label=LabelEncoder()\n",
        "    df['department']=label.fit_transform(df['department'])\n",
        "    df['region']=label.fit_transform(df['region'])\n",
        "    df['education']=label.fit_transform(df['education'])\n",
        "    df['age']=label.fit_transform(df['age'])\n",
        "    return(df)"
      ],
      "execution_count": 7,
      "outputs": []
    },
    {
      "cell_type": "code",
      "metadata": {
        "id": "dGivuv54zBOO"
      },
      "source": [
        "df=others(df)\n",
        "df=bini(df)\n",
        "df=label_encode(df)\n"
      ],
      "execution_count": 8,
      "outputs": []
    },
    {
      "cell_type": "code",
      "metadata": {
        "id": "fjVz8I_czJe9"
      },
      "source": [
        "#from sklearn.model_selection import train_test_split\n",
        "#train,test=train_test_split(df,test_size=0.2,random_state=19)"
      ],
      "execution_count": 9,
      "outputs": []
    },
    {
      "cell_type": "code",
      "metadata": {
        "id": "G3p_dHuNzMy1"
      },
      "source": [
        "def x_and_y(df):\n",
        "    Y=df['is_promoted']\n",
        "    X=df.drop(['is_promoted'],axis=1)\n",
        "    return X,Y"
      ],
      "execution_count": 10,
      "outputs": []
    },
    {
      "cell_type": "code",
      "metadata": {
        "id": "aOapbvN0zQ4o"
      },
      "source": [
        "X_train,Y_train=x_and_y(df)"
      ],
      "execution_count": 11,
      "outputs": []
    },
    {
      "cell_type": "code",
      "metadata": {
        "id": "6F48R06xzTkM"
      },
      "source": [
        "df1=pd.read_csv('hr_test.csv')\n",
        "ids=df1['employee_id']\n",
        "df1=others(df1)\n",
        "df1=bini(df1)\n",
        "df1=label_encode(df1)"
      ],
      "execution_count": 12,
      "outputs": []
    },
    {
      "cell_type": "code",
      "metadata": {
        "id": "UUZrzbas0kME"
      },
      "source": [
        "from sklearn.ensemble import GradientBoostingClassifier\n",
        "from sklearn.metrics import f1_score\n",
        "clf = GradientBoostingClassifier(n_estimators=510)\n",
        "clf.fit(X_train, Y_train)\n",
        "pred1= clf.predict(df1)\n"
      ],
      "execution_count": 13,
      "outputs": []
    },
    {
      "cell_type": "code",
      "metadata": {
        "id": "36Q1XERO0nga"
      },
      "source": [
        "from sklearn.tree import DecisionTreeClassifier\n",
        "from sklearn.metrics import f1_score\n",
        "dt_model=DecisionTreeClassifier(max_depth=12)\n",
        "dt_model.fit(X_train,Y_train)\n",
        "pred2=dt_model.predict(df1)"
      ],
      "execution_count": 14,
      "outputs": []
    },
    {
      "cell_type": "code",
      "metadata": {
        "id": "2DWBsSP10s5I"
      },
      "source": [
        "from sklearn.ensemble import RandomForestClassifier\n",
        "rand_model=RandomForestClassifier(n_estimators=79,max_depth=42,random_state=35)\n",
        "rand_model.fit(X_train,Y_train)\n",
        "pred3=rand_model.predict(df1)"
      ],
      "execution_count": 15,
      "outputs": []
    },
    {
      "cell_type": "code",
      "metadata": {
        "id": "4FfDOQJU0viR"
      },
      "source": [
        "from statistics import mode\n",
        "final=np.array([])\n",
        "for i in range(0,len(df1)):\n",
        "    final=np.append(final,mode([pred1[i],pred2[i],pred3[i]]))"
      ],
      "execution_count": 16,
      "outputs": []
    },
    {
      "cell_type": "code",
      "metadata": {
        "id": "pR_En8Ir0xv7"
      },
      "source": [
        "Submission5=pd.DataFrame({'employee_id':ids,'is_promoted':pred1})\n",
        "Submission5.to_csv(\"submission5.csv\",sep=\",\",index=[\"employee_id\",\"is_promoted\"])"
      ],
      "execution_count": 17,
      "outputs": []
    },
    {
      "cell_type": "code",
      "metadata": {
        "id": "ssQXAUdg00Lb"
      },
      "source": [
        ""
      ],
      "execution_count": null,
      "outputs": []
    }
  ]
}